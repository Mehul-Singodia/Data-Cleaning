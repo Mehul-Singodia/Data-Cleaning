{
 "cells": [
  {
   "cell_type": "code",
   "execution_count": 1,
   "id": "06c47652",
   "metadata": {},
   "outputs": [],
   "source": [
    "import pandas as pd\n",
    "import numpy as np\n",
    "import itertools"
   ]
  },
  {
   "cell_type": "code",
   "execution_count": 2,
   "id": "f920f673",
   "metadata": {},
   "outputs": [
    {
     "data": {
      "text/html": [
       "<div>\n",
       "<style scoped>\n",
       "    .dataframe tbody tr th:only-of-type {\n",
       "        vertical-align: middle;\n",
       "    }\n",
       "\n",
       "    .dataframe tbody tr th {\n",
       "        vertical-align: top;\n",
       "    }\n",
       "\n",
       "    .dataframe thead th {\n",
       "        text-align: right;\n",
       "    }\n",
       "</style>\n",
       "<table border=\"1\" class=\"dataframe\">\n",
       "  <thead>\n",
       "    <tr style=\"text-align: right;\">\n",
       "      <th></th>\n",
       "      <th>Date</th>\n",
       "      <th>Product</th>\n",
       "      <th>Lot</th>\n",
       "      <th>Defects</th>\n",
       "    </tr>\n",
       "  </thead>\n",
       "  <tbody>\n",
       "    <tr>\n",
       "      <th>0</th>\n",
       "      <td>13/3/2022</td>\n",
       "      <td>Clinic plus</td>\n",
       "      <td>80</td>\n",
       "      <td>3</td>\n",
       "    </tr>\n",
       "    <tr>\n",
       "      <th>1</th>\n",
       "      <td>14/3/2022</td>\n",
       "      <td>Dove</td>\n",
       "      <td>100</td>\n",
       "      <td>2</td>\n",
       "    </tr>\n",
       "    <tr>\n",
       "      <th>2</th>\n",
       "      <td>15/3/2022</td>\n",
       "      <td>Clinic plus</td>\n",
       "      <td>80</td>\n",
       "      <td>4</td>\n",
       "    </tr>\n",
       "    <tr>\n",
       "      <th>3</th>\n",
       "      <td>16/3/2022</td>\n",
       "      <td>Clinic plus</td>\n",
       "      <td>40</td>\n",
       "      <td>2</td>\n",
       "    </tr>\n",
       "    <tr>\n",
       "      <th>4</th>\n",
       "      <td>17/3/2022</td>\n",
       "      <td>Dove</td>\n",
       "      <td>100</td>\n",
       "      <td>4</td>\n",
       "    </tr>\n",
       "    <tr>\n",
       "      <th>5</th>\n",
       "      <td>18/3/2022</td>\n",
       "      <td>Clinic plus</td>\n",
       "      <td>80</td>\n",
       "      <td>2</td>\n",
       "    </tr>\n",
       "    <tr>\n",
       "      <th>6</th>\n",
       "      <td>19/3/2022</td>\n",
       "      <td>Dove</td>\n",
       "      <td>50</td>\n",
       "      <td>4</td>\n",
       "    </tr>\n",
       "    <tr>\n",
       "      <th>7</th>\n",
       "      <td>20/3/2022</td>\n",
       "      <td>Clinic plus</td>\n",
       "      <td>40</td>\n",
       "      <td>5</td>\n",
       "    </tr>\n",
       "    <tr>\n",
       "      <th>8</th>\n",
       "      <td>21/3/2022</td>\n",
       "      <td>Dove</td>\n",
       "      <td>100</td>\n",
       "      <td>1</td>\n",
       "    </tr>\n",
       "    <tr>\n",
       "      <th>9</th>\n",
       "      <td>22/3/2022</td>\n",
       "      <td>Clinic plus</td>\n",
       "      <td>80</td>\n",
       "      <td>4</td>\n",
       "    </tr>\n",
       "    <tr>\n",
       "      <th>10</th>\n",
       "      <td>23/3/2022</td>\n",
       "      <td>Dove</td>\n",
       "      <td>50</td>\n",
       "      <td>2</td>\n",
       "    </tr>\n",
       "    <tr>\n",
       "      <th>11</th>\n",
       "      <td>24/3/2022</td>\n",
       "      <td>Clinic plus</td>\n",
       "      <td>40</td>\n",
       "      <td>4</td>\n",
       "    </tr>\n",
       "    <tr>\n",
       "      <th>12</th>\n",
       "      <td>25/3/2022</td>\n",
       "      <td>Dove</td>\n",
       "      <td>50</td>\n",
       "      <td>2</td>\n",
       "    </tr>\n",
       "    <tr>\n",
       "      <th>13</th>\n",
       "      <td>26/3/2022</td>\n",
       "      <td>Clinic plus</td>\n",
       "      <td>40</td>\n",
       "      <td>5</td>\n",
       "    </tr>\n",
       "    <tr>\n",
       "      <th>14</th>\n",
       "      <td>27/3/2022</td>\n",
       "      <td>Dove</td>\n",
       "      <td>20</td>\n",
       "      <td>2</td>\n",
       "    </tr>\n",
       "    <tr>\n",
       "      <th>15</th>\n",
       "      <td>28/3/2022</td>\n",
       "      <td>Clinic plus</td>\n",
       "      <td>10</td>\n",
       "      <td>3</td>\n",
       "    </tr>\n",
       "    <tr>\n",
       "      <th>16</th>\n",
       "      <td>29/3/2022</td>\n",
       "      <td>Dove</td>\n",
       "      <td>50</td>\n",
       "      <td>4</td>\n",
       "    </tr>\n",
       "  </tbody>\n",
       "</table>\n",
       "</div>"
      ],
      "text/plain": [
       "         Date      Product  Lot  Defects\n",
       "0   13/3/2022  Clinic plus   80        3\n",
       "1   14/3/2022         Dove  100        2\n",
       "2   15/3/2022  Clinic plus   80        4\n",
       "3   16/3/2022  Clinic plus   40        2\n",
       "4   17/3/2022         Dove  100        4\n",
       "5   18/3/2022  Clinic plus   80        2\n",
       "6   19/3/2022         Dove   50        4\n",
       "7   20/3/2022  Clinic plus   40        5\n",
       "8   21/3/2022         Dove  100        1\n",
       "9   22/3/2022  Clinic plus   80        4\n",
       "10  23/3/2022         Dove   50        2\n",
       "11  24/3/2022  Clinic plus   40        4\n",
       "12  25/3/2022         Dove   50        2\n",
       "13  26/3/2022  Clinic plus   40        5\n",
       "14  27/3/2022         Dove   20        2\n",
       "15  28/3/2022  Clinic plus   10        3\n",
       "16  29/3/2022         Dove   50        4"
      ]
     },
     "execution_count": 2,
     "metadata": {},
     "output_type": "execute_result"
    }
   ],
   "source": [
    "data =pd.read_excel('Product_Qunatity.xlsx')\n",
    "data"
   ]
  },
  {
   "cell_type": "code",
   "execution_count": 3,
   "id": "a5c93673",
   "metadata": {},
   "outputs": [],
   "source": [
    "data_columns = list(data.columns)                \n",
    "# data_columns.sort()                                     ''' Need to check '''\n",
    "\n",
    "# all possible combinations of columns of all size\n",
    "column_combinations = []\n",
    "\n",
    "# count of every combination size\n",
    "column_combination_counts = []"
   ]
  },
  {
   "cell_type": "code",
   "execution_count": 4,
   "id": "3bdbc7c7",
   "metadata": {},
   "outputs": [],
   "source": [
    "for i in range(len(data_columns)):\n",
    "    column_combinations = column_combinations + list(itertools.combinations(data_columns, i+1))"
   ]
  },
  {
   "cell_type": "code",
   "execution_count": 5,
   "id": "cef1a326",
   "metadata": {},
   "outputs": [],
   "source": [
    "# contins all the exceptions of different combination size [list of dataframe]\n",
    "exceptions = []   \n",
    "\n",
    "eliminator = 2\n",
    "\n",
    "for i in column_combinations:\n",
    "    \n",
    "    exceptions_df = data.groupby(list(i)).size().reset_index(drop = False, name = 'Count')\n",
    "    exceptions_df = exceptions_df[exceptions_df['Count'] < eliminator].sort_values(by = 'Count', ascending = True).reset_index(drop = True)\n",
    "\n",
    "    exceptions.append(exceptions_df)"
   ]
  },
  {
   "cell_type": "code",
   "execution_count": 6,
   "id": "64916507",
   "metadata": {},
   "outputs": [
    {
     "name": "stdout",
     "output_type": "stream",
     "text": [
      "Enter the column Combination you want to check for exception (names should be seperated by ,): Product, Lot\n"
     ]
    }
   ],
   "source": [
    "# Columns can be input in any order                          ''' if need to check are executed '''\n",
    "combination = input('Enter the column Combination you want to check for exception (names should be seperated by ,): ')"
   ]
  },
  {
   "cell_type": "code",
   "execution_count": 7,
   "id": "a5946ab8",
   "metadata": {},
   "outputs": [],
   "source": [
    "# converting the input to the list of columns\n",
    "\n",
    "combination = combination.split(',')\n",
    "\n",
    "for i in range(len(combination)):\n",
    "    combination[i] = combination[i].strip()\n",
    "\n",
    "# Transforming input into a standard order\n",
    "# combination.sort()                                          ''' Need to check '''\n",
    "combination = tuple(combination)"
   ]
  },
  {
   "cell_type": "code",
   "execution_count": 8,
   "id": "a839e55e",
   "metadata": {},
   "outputs": [],
   "source": [
    "exception_df = exceptions[column_combinations.index(combination)]"
   ]
  },
  {
   "cell_type": "code",
   "execution_count": 9,
   "id": "73281f5f",
   "metadata": {},
   "outputs": [],
   "source": [
    "# printing entire rows of the data\n",
    "complete_exception_df = data[data[list(combination)].apply(tuple, axis=1).isin(exception_df[list(combination)].apply(tuple, axis=1))]"
   ]
  },
  {
   "cell_type": "code",
   "execution_count": 10,
   "id": "3426f386",
   "metadata": {},
   "outputs": [
    {
     "data": {
      "text/html": [
       "<div>\n",
       "<style scoped>\n",
       "    .dataframe tbody tr th:only-of-type {\n",
       "        vertical-align: middle;\n",
       "    }\n",
       "\n",
       "    .dataframe tbody tr th {\n",
       "        vertical-align: top;\n",
       "    }\n",
       "\n",
       "    .dataframe thead th {\n",
       "        text-align: right;\n",
       "    }\n",
       "</style>\n",
       "<table border=\"1\" class=\"dataframe\">\n",
       "  <thead>\n",
       "    <tr style=\"text-align: right;\">\n",
       "      <th></th>\n",
       "      <th>Product</th>\n",
       "      <th>Lot</th>\n",
       "      <th>Count</th>\n",
       "    </tr>\n",
       "  </thead>\n",
       "  <tbody>\n",
       "    <tr>\n",
       "      <th>0</th>\n",
       "      <td>Clinic plus</td>\n",
       "      <td>10</td>\n",
       "      <td>1</td>\n",
       "    </tr>\n",
       "    <tr>\n",
       "      <th>1</th>\n",
       "      <td>Dove</td>\n",
       "      <td>20</td>\n",
       "      <td>1</td>\n",
       "    </tr>\n",
       "  </tbody>\n",
       "</table>\n",
       "</div>"
      ],
      "text/plain": [
       "       Product  Lot  Count\n",
       "0  Clinic plus   10      1\n",
       "1         Dove   20      1"
      ]
     },
     "execution_count": 10,
     "metadata": {},
     "output_type": "execute_result"
    }
   ],
   "source": [
    "exception_df"
   ]
  },
  {
   "cell_type": "code",
   "execution_count": 11,
   "id": "1c61547a",
   "metadata": {},
   "outputs": [
    {
     "data": {
      "text/html": [
       "<div>\n",
       "<style scoped>\n",
       "    .dataframe tbody tr th:only-of-type {\n",
       "        vertical-align: middle;\n",
       "    }\n",
       "\n",
       "    .dataframe tbody tr th {\n",
       "        vertical-align: top;\n",
       "    }\n",
       "\n",
       "    .dataframe thead th {\n",
       "        text-align: right;\n",
       "    }\n",
       "</style>\n",
       "<table border=\"1\" class=\"dataframe\">\n",
       "  <thead>\n",
       "    <tr style=\"text-align: right;\">\n",
       "      <th></th>\n",
       "      <th>Date</th>\n",
       "      <th>Product</th>\n",
       "      <th>Lot</th>\n",
       "      <th>Defects</th>\n",
       "    </tr>\n",
       "  </thead>\n",
       "  <tbody>\n",
       "    <tr>\n",
       "      <th>14</th>\n",
       "      <td>27/3/2022</td>\n",
       "      <td>Dove</td>\n",
       "      <td>20</td>\n",
       "      <td>2</td>\n",
       "    </tr>\n",
       "    <tr>\n",
       "      <th>15</th>\n",
       "      <td>28/3/2022</td>\n",
       "      <td>Clinic plus</td>\n",
       "      <td>10</td>\n",
       "      <td>3</td>\n",
       "    </tr>\n",
       "  </tbody>\n",
       "</table>\n",
       "</div>"
      ],
      "text/plain": [
       "         Date      Product  Lot  Defects\n",
       "14  27/3/2022         Dove   20        2\n",
       "15  28/3/2022  Clinic plus   10        3"
      ]
     },
     "execution_count": 11,
     "metadata": {},
     "output_type": "execute_result"
    }
   ],
   "source": [
    "complete_exception_df"
   ]
  }
 ],
 "metadata": {
  "kernelspec": {
   "display_name": "Python 3 (ipykernel)",
   "language": "python",
   "name": "python3"
  },
  "language_info": {
   "codemirror_mode": {
    "name": "ipython",
    "version": 3
   },
   "file_extension": ".py",
   "mimetype": "text/x-python",
   "name": "python",
   "nbconvert_exporter": "python",
   "pygments_lexer": "ipython3",
   "version": "3.11.4"
  }
 },
 "nbformat": 4,
 "nbformat_minor": 5
}
